{
 "cells": [
  {
   "cell_type": "code",
   "execution_count": 1,
   "id": "a8510330-0f05-427b-bd8f-01301ce66488",
   "metadata": {},
   "outputs": [],
   "source": [
    "import pandas as pd\n",
    "df_HD=pd.read_excel(\"Cardiac_Outcomes.xlsx\",\"Hospitalization_Discharge\")\n",
    "df_RS=pd.read_excel(\"Cardiac_Outcomes.xlsx\",\"Responsivenes\")\n",
    "df_CC=pd.read_excel(\"Cardiac_Outcomes.xlsx\",\"CardiacComplications\")\n",
    "df_labs=pd.read_excel(\"Cardiac_Outcomes.xlsx\",\"Labs\")\n",
    "df_PH=pd.read_excel(\"Cardiac_Outcomes.xlsx\",\"PatientHistory\")\n",
    "df_Demo=pd.read_excel(\"Cardiac_Outcomes.xlsx\",\"Demography\")\n",
    "df_Demo=pd.read_excel(\"Cardiac_Outcomes.xlsx\",\"Patient_Precriptions\")\n"
   ]
  },
  {
   "cell_type": "code",
   "execution_count": 3,
   "id": "7d02468d-bbea-46c0-870c-92007a7a5650",
   "metadata": {},
   "outputs": [
    {
     "data": {
      "text/plain": [
       "occupation\n",
       "UrbanResident    1670\n",
       "farmer            198\n",
       "Others             89\n",
       "worker             17\n",
       "Officer             7\n",
       "Name: count, dtype: int64"
      ]
     },
     "execution_count": 3,
     "metadata": {},
     "output_type": "execute_result"
    }
   ],
   "source": [
    "#1.How many patients were registered in each unique occupation?\n",
    "import pandas as pd \n",
    "Demo=pd.read_excel(\"Cardiac_Outcomes.xlsx\",\"Demography\") \n",
    "occupation_occurence=Demo[\"occupation\"].value_counts() \n",
    "occupation_occurence.sort_values(axis = 0, ascending = False)"
   ]
  },
  {
   "cell_type": "code",
   "execution_count": null,
   "id": "a98513a9-d32f-4042-9ce4-efaefa801052",
   "metadata": {},
   "outputs": [],
   "source": [
    "#2.Divide GCS scores into slabs of 5 and count the number of patients under each band of score. Show this as any graph of your choice"
   ]
  },
  {
   "cell_type": "code",
   "execution_count": 1,
   "id": "3602702f-3642-4ce3-86cf-33d274bc0ef0",
   "metadata": {},
   "outputs": [
    {
     "name": "stdout",
     "output_type": "stream",
     "text": [
      "0      2017-02-04\n",
      "1      2017-05-13\n",
      "2      2016-11-23\n",
      "3      2017-10-13\n",
      "4      2019-11-22\n",
      "          ...    \n",
      "2003   2016-02-12\n",
      "2004   2017-04-06\n",
      "2005   2018-02-05\n",
      "2006   2019-11-28\n",
      "2007   2017-02-23\n",
      "Name: Discharge date, Length: 2008, dtype: datetime64[ns]\n"
     ]
    }
   ],
   "source": [
    "#3.Add a calculated column called Discharge date into the Hospitalization_Discharge using the information already available to you\n",
    "import pandas as pd\n",
    "import datetime\n",
    "df_HD=pd.read_excel(\"Cardiac_Outcomes.xlsx\",\"Hospitalization_Discharge\")\n",
    "#Admission_date=df_HC[\"Admission_date\"]\n",
    "#Discharge_Day=df_HC[\"dischargeDay\"]\n",
    "#Discharge_Dat = Admission_date + datetime.timedelta(days=Discharge_Day) #count the days to date\n",
    "#df_HC.assign(Discharge_Date=Discharge_Dat)#add the coulmn to the sheet Hspitalization_Discharge\n",
    "\n",
    "df_HD['Admission date'] = pd.to_datetime(df_HD['Admission_date'])\n",
    "df_HD['Discharge date'] = df_HD['Admission date'] + pd.to_timedelta(df_HD['dischargeDay'], unit='D')\n",
    "print(df_HD['Discharge date'])"
   ]
  },
  {
   "cell_type": "code",
   "execution_count": 4,
   "id": "b49e50ff-ebb8-43d0-b792-a311232c335f",
   "metadata": {},
   "outputs": [
    {
     "data": {
      "text/plain": [
       "0      2017-02-04\n",
       "1      2017-05-13\n",
       "2      2016-11-23\n",
       "3      2017-10-13\n",
       "4      2019-11-22\n",
       "          ...    \n",
       "2003   2016-02-12\n",
       "2004   2017-04-06\n",
       "2005   2018-02-05\n",
       "2006   2019-11-28\n",
       "2007   2017-02-23\n",
       "Name: Discharge date, Length: 2008, dtype: datetime64[ns]"
      ]
     },
     "execution_count": 4,
     "metadata": {},
     "output_type": "execute_result"
    }
   ],
   "source": [
    "#3.Add a calculated column called Discharge date into the Hospitalization_Discharge using the information already available to you\n",
    "import pandas as pd\n",
    "import datetime\n",
    "df_HD=pd.read_excel(\"Cardiac_Outcomes.xlsx\",\"Hospitalization_Discharge\")\n",
    "df_HD['Admission date'] = pd.to_datetime(df_HD['Admission_date'])\n",
    "\n",
    "df_HD['Discharge date'] = df_HD['Admission date'] + pd.to_timedelta(df_HD['dischargeDay'], unit='D')\n",
    "df_HD['Discharge date']"
   ]
  },
  {
   "cell_type": "markdown",
   "id": "40d0f186-cf28-4e44-be7d-0371ed676e85",
   "metadata": {},
   "source": [
    "#4.What percentage of patients had Biventricular heart failure?\n"
   ]
  },
  {
   "cell_type": "code",
   "execution_count": 7,
   "id": "899d7d7d-7695-4350-9b76-bdf1942ce638",
   "metadata": {},
   "outputs": [
    {
     "name": "stdout",
     "output_type": "stream",
     "text": [
      "Percentage of Biventricular heart failure=  73.7 %\n"
     ]
    }
   ],
   "source": [
    "\n",
    "df_CC = pd.read_excel(\"Cardiac_Outcomes.xlsx\", \"CardiacComplications\")\n",
    "Both = int(df_CC[df_CC.type_of_heart_failure == 'Both'].shape[0])\n",
    "Total = int(df_CC['type_of_heart_failure'].shape[0])\n",
    "PercentBiventricular= (Both/Total)*100\n",
    "print('Percentage of Biventricular heart failure= ', round(PercentBiventricular, 1),'%')\n",
    "\t"
   ]
  },
  {
   "cell_type": "code",
   "execution_count": null,
   "id": "ae6a92c6-42dd-4134-80c9-0c73cc5270c5",
   "metadata": {},
   "outputs": [],
   "source": [
    "#5.What is the ratio of patients who were responsive to pain vs responsive to sound?"
   ]
  },
  {
   "cell_type": "markdown",
   "id": "94a008d3-a6ed-4182-aab4-e86a76095c51",
   "metadata": {},
   "source": [
    "#6.What was the average age group of the patients that had an outcome of 'Alive'?"
   ]
  },
  {
   "cell_type": "code",
   "execution_count": 30,
   "id": "bcf0d2b5-a6ae-4a00-a21d-f10a8b7d854d",
   "metadata": {},
   "outputs": [
    {
     "data": {
      "text/plain": [
       "ageCat\n",
       "69-79     715\n",
       "79-89     646\n",
       "59-69     368\n",
       "49-59     106\n",
       "89-110    101\n",
       "39-49      56\n",
       "29-39      12\n",
       "21-29       4\n",
       "Name: outcome_during_hospitalization, dtype: int64"
      ]
     },
     "execution_count": 30,
     "metadata": {},
     "output_type": "execute_result"
    }
   ],
   "source": [
    "df_HD=pd.read_excel(\"Cardiac_Outcomes.xlsx\",\"Hospitalization_Discharge\")\n",
    "Alive= df_HD['outcome_during_hospitalization'] == 'Alive'  #selecting the outcome_during_hospitalization is Alive\n",
    "df_Demo=pd.read_excel(\"Cardiac_Outcomes.xlsx\",\"Demography\")\n",
    "age= df_Demo['ageCat']\n",
    "Alive_age = [Alive,age] #saving as one dataset\n",
    "join1 = pd.concat(Alive_age, axis = 1) #concat joins all these columns \n",
    "grouping = join1.groupby([\"ageCat\"])[\"outcome_during_hospitalization\"].count().sort_values( ascending=False)\n",
    "    \n",
    "    #grouping by Alive and Age  and then counting\n",
    "grouping\n"
   ]
  },
  {
   "cell_type": "code",
   "execution_count": null,
   "id": "0f6a29c4-3443-4a4c-ad61-3e2e4678558a",
   "metadata": {},
   "outputs": [],
   "source": []
  },
  {
   "cell_type": "code",
   "execution_count": null,
   "id": "8a0cf47f-e5cc-45d8-b168-78a3a67e203f",
   "metadata": {},
   "outputs": [],
   "source": []
  }
 ],
 "metadata": {
  "kernelspec": {
   "display_name": "Python 3 (ipykernel)",
   "language": "python",
   "name": "python3"
  },
  "language_info": {
   "codemirror_mode": {
    "name": "ipython",
    "version": 3
   },
   "file_extension": ".py",
   "mimetype": "text/x-python",
   "name": "python",
   "nbconvert_exporter": "python",
   "pygments_lexer": "ipython3",
   "version": "3.11.7"
  }
 },
 "nbformat": 4,
 "nbformat_minor": 5
}
