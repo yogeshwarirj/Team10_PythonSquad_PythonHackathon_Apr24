{
 "cells": [
  {
   "cell_type": "code",
   "execution_count": 5,
   "id": "8fab9325-e393-491a-b4b6-2d7879f0aa6c",
   "metadata": {},
   "outputs": [],
   "source": [
    "import pandas as pd\n",
    "import numpy as ny"
   ]
  },
  {
   "cell_type": "code",
   "execution_count": 6,
   "id": "182bf662-1635-49b4-abcb-6457c0bf0825",
   "metadata": {},
   "outputs": [],
   "source": [
    "df_HD = pd.read_excel(\"Cardiac_Outcomes.xlsx\", \"Hospitalization_Discharge\")\n",
    "df_CC = pd.read_excel(\"Cardiac_Outcomes.xlsx\", \"CardiacComplications\")\n",
    "df_Res = pd.read_excel(\"Cardiac_Outcomes.xlsx\", \"Responsivenes\")\n",
    "df_PH = pd.read_excel(\"Cardiac_Outcomes.xlsx\", \"PatientHistory\")\n",
    "df_Labs = pd.read_excel(\"Cardiac_Outcomes.xlsx\", \"Labs\")\n",
    "df_Demo = pd.read_excel(\"Cardiac_Outcomes.xlsx\", \"Demography\")\n",
    "df_Ppres = pd.read_excel(\"Cardiac_Outcomes.xlsx\", \"Patient_Precriptions\")"
   ]
  },
  {
   "cell_type": "code",
   "execution_count": 4,
   "id": "b6f50302",
   "metadata": {},
   "outputs": [
    {
     "name": "stdout",
     "output_type": "stream",
     "text": [
      "{'Cardiology': 1703, 'GeneralWard': 241, 'Others': 52, 'ICU': 12}\n",
      "     discharge_department  visit_times\n",
      "0              Cardiology            1\n",
      "1              Cardiology            1\n",
      "2              Cardiology            2\n",
      "3              Cardiology            1\n",
      "4              Cardiology            1\n",
      "...                   ...          ...\n",
      "2003          GeneralWard            1\n",
      "2004          GeneralWard            1\n",
      "2005           Cardiology            1\n",
      "2006           Cardiology            1\n",
      "2007           Cardiology            1\n",
      "\n",
      "[2008 rows x 2 columns]\n",
      "  discharge_department  visit_times\n",
      "0           Cardiology         1872\n",
      "1          GeneralWard          254\n",
      "2                  ICU           13\n",
      "3               Others           55\n",
      "The admission ward with the maximum number of scheduled visits is 'Cardiology' with 1872 visits.\n"
     ]
    }
   ],
   "source": [
    "#Q65.Which Admission Ward has maximum number of visits scheduled?\n",
    "df1 = df_HD\n",
    "\n",
    "# counts of discharge_department\n",
    "DD_value_counts = df1['discharge_department'].value_counts()\n",
    "data = dict(DD_value_counts)\n",
    "print(data)\n",
    "\n",
    "# Extract discharge_department and visit_times columns\n",
    "discharge_department = df1['discharge_department']\n",
    "visit_times = df1['visit_times']\n",
    "\n",
    "# Create a DataFrame with both columns\n",
    "df2 = pd.DataFrame({'discharge_department': discharge_department, 'visit_times': visit_times})\n",
    "print(df2)\n",
    "#Getting unique discharge department with total visit time\n",
    "ward_visits = df2.groupby('discharge_department')['visit_times'].sum().reset_index()\n",
    "print(ward_visits)\n",
    "#maximum visit per department\n",
    "max_visits_ward = ward_visits.loc[ward_visits['visit_times'].idxmax()]\n",
    "\n",
    "print(f\"The admission ward with the maximum number of scheduled visits is '{max_visits_ward['discharge_department']}' \"\n",
    "      f\"with {max_visits_ward['visit_times']} visits.\")"
   ]
  },
  {
   "cell_type": "code",
   "execution_count": 5,
   "id": "dfcc6a82",
   "metadata": {},
   "outputs": [
    {
     "name": "stdout",
     "output_type": "stream",
     "text": [
      "  discharge_department  gender  count\n",
      "0           Cardiology  Female    993\n",
      "1           Cardiology    Male    710\n",
      "2          GeneralWard  Female    137\n",
      "3          GeneralWard    Male    104\n",
      "4                  ICU  Female      5\n",
      "5                  ICU    Male      7\n",
      "6               Others  Female     28\n",
      "7               Others    Male     24\n",
      "gender                Female  Male\n",
      "discharge_department              \n",
      "Cardiology               993   710\n",
      "GeneralWard              137   104\n",
      "ICU                        5     7\n",
      "Others                    28    24\n"
     ]
    }
   ],
   "source": [
    "#Q66.Display total count of patients in each discharge_department based on gender.\n",
    "df_HD\n",
    "df_Demo\n",
    "# Merge Hospitalization_Discharge and Demography on inpatient_number \n",
    "df_merged = pd.merge(df_HD, df_Demo, on='inpatient_number')\n",
    "#print(df_merged)\n",
    "#No of patients discharge department wise\n",
    "patients_count = df_merged.groupby(['discharge_department', 'gender']).size().reset_index(name='count')\n",
    "print(patients_count)\n",
    "#display total count of patients in each discharge_department based on gender.\n",
    "pivot_table = patients_count.pivot_table(index='discharge_department', columns='gender', values='count', fill_value=0)\n",
    "print(pivot_table)"
   ]
  },
  {
   "cell_type": "code",
   "execution_count": 7,
   "id": "d6681ff7",
   "metadata": {},
   "outputs": [
    {
     "name": "stdout",
     "output_type": "stream",
     "text": [
      "                                           Drug_name  count\n",
      "0                      Aspirin enteric-coated tablet    958\n",
      "1                        Atorvastatin calcium tablet    822\n",
      "2                    Benazepril hydrochloride tablet    434\n",
      "3               Clopidogrel Hydrogen Sulphate tablet    401\n",
      "4                              Deslanoside injection   1017\n",
      "5                                     Digoxin tablet    999\n",
      "6                 Dobutamine hydrochloride injection     22\n",
      "7                        Enoxaparin Sodium injection    113\n",
      "8                               Furosemide injection   1720\n",
      "9                                  Furosemide tablet   1641\n",
      "10                          Heparin Sodium injection    153\n",
      "11                        Hydrochlorothiazide tablet    283\n",
      "12              Isoprenaline Hydrochloride injection     30\n",
      "13   Isosorbide Mononitrate Sustained Release tablet    326\n",
      "14  Meglumine Adenosine Cyclophosphate for injection   1115\n",
      "15     Metoprolol Succinate Sustained-release tablet    523\n",
      "16                               Milrinone injection    709\n",
      "17                           Nitroglycerin injection    203\n",
      "18                                  Shenfu injection    338\n",
      "19                             Spironolactone tablet   1833\n",
      "20                                 Torasemide tablet    252\n",
      "21                      Valsartan Dispersible tablet    348\n",
      "22                     metoprolol tartrate injection    307\n",
      "23                  sulfotanshinone sodium injection    570\n",
      "24                            warfarin sodium tablet    253\n",
      "                                           Drug_name  count\n",
      "0                      Aspirin enteric-coated tablet    958\n",
      "1                        Atorvastatin calcium tablet    822\n",
      "2                    Benazepril hydrochloride tablet    434\n",
      "3               Clopidogrel Hydrogen Sulphate tablet    401\n",
      "4                              Deslanoside injection   1017\n",
      "5                                     Digoxin tablet    999\n",
      "6                 Dobutamine hydrochloride injection     22\n",
      "7                        Enoxaparin Sodium injection    113\n",
      "8                               Furosemide injection   1720\n",
      "9                                  Furosemide tablet   1641\n",
      "10                          Heparin Sodium injection    153\n",
      "11                        Hydrochlorothiazide tablet    283\n",
      "12              Isoprenaline Hydrochloride injection     30\n",
      "13   Isosorbide Mononitrate Sustained Release tablet    326\n",
      "14  Meglumine Adenosine Cyclophosphate for injection   1115\n",
      "15     Metoprolol Succinate Sustained-release tablet    523\n",
      "16                               Milrinone injection    709\n",
      "17                           Nitroglycerin injection    203\n",
      "18                                  Shenfu injection    338\n",
      "19                             Spironolactone tablet   1833\n",
      "20                                 Torasemide tablet    252\n",
      "21                      Valsartan Dispersible tablet    348\n",
      "22                     metoprolol tartrate injection    307\n",
      "23                  sulfotanshinone sodium injection    570\n",
      "24                            warfarin sodium tablet    253\n"
     ]
    }
   ],
   "source": [
    "#Q67.How many Unique patients were precribed each type of medication?\n",
    "df_Ppres\n",
    "\n",
    "#Methord 1\n",
    "Unique_patients1=df_Ppres.groupby([\"Drug_name\"]).size().reset_index(name='count')\n",
    "print(Unique_patients1)\n",
    "\n",
    "#Methord 2\n",
    "unique_patients = df_Ppres.groupby('Drug_name')['inpatient_number'].nunique().reset_index(name='count')\n",
    "print(unique_patients)"
   ]
  },
  {
   "cell_type": "code",
   "execution_count": 8,
   "id": "04c6c3d0",
   "metadata": {},
   "outputs": [
    {
     "name": "stdout",
     "output_type": "stream",
     "text": [
      "      inpatient_number  dischargeDay\n",
      "0               857781            11\n",
      "1               743087             8\n",
      "2               866418             5\n",
      "3               775928            11\n",
      "4               810128             5\n",
      "...                ...           ...\n",
      "2003            740689             5\n",
      "2004            734280             8\n",
      "2005            781004            14\n",
      "2006            744870             1\n",
      "2007            791864             6\n",
      "\n",
      "[2008 rows x 2 columns]\n",
      "      inpatient_number  dischargeDay\n",
      "7               787530            27\n",
      "13              744167            22\n",
      "63              859541            30\n",
      "68              779834            21\n",
      "89              773090            26\n",
      "...                ...           ...\n",
      "1945            842942            32\n",
      "1976            777237            21\n",
      "1987            759370            28\n",
      "1997            750447            29\n",
      "1999            804209            29\n",
      "\n",
      "[102 rows x 2 columns]\n",
      "    inpatient_number  dischargeDay\n",
      "7             787530            27\n",
      "13            744167            22\n",
      "63            859541            30\n",
      "68            779834            21\n",
      "89            773090            26\n"
     ]
    }
   ],
   "source": [
    "#Q68.Find 5 patients with the highest Discharge days greater than 20. List their most common outcome(notcompleted).\n",
    "df=df_HD\n",
    "\n",
    "#Displaing discharge day by inpatient no\n",
    "dischargeDay=df['dischargeDay']\n",
    "Inpatient_no=df['inpatient_number']\n",
    "df2 = pd.DataFrame({'inpatient_number': Inpatient_no, 'dischargeDay': dischargeDay})\n",
    "print(df2)\n",
    "\n",
    "# Filtering only, base on discharge day>20\n",
    "filtered_df = df_HD[df_HD['dischargeDay'] > 20]\n",
    "df3=filtered_df[['inpatient_number','dischargeDay']]\n",
    "print(df3)\n",
    "\n",
    "# Top 5 patients\n",
    "print(df3.head(5))"
   ]
  },
  {
   "cell_type": "code",
   "execution_count": null,
   "id": "8fbd00fd-a3cd-425a-b1ef-d1a001536f8e",
   "metadata": {},
   "outputs": [],
   "source": []
  },
  {
   "cell_type": "code",
   "execution_count": 7,
   "id": "299b560c",
   "metadata": {},
   "outputs": [
    {
     "name": "stdout",
     "output_type": "stream",
     "text": [
      "Admission_date\n",
      "2018-06-20    6\n",
      "2018-04-30    6\n",
      "2017-03-29    6\n",
      "2017-04-21    6\n",
      "2017-10-31    5\n",
      "             ..\n",
      "2016-01-27    1\n",
      "2016-10-05    1\n",
      "2017-07-25    1\n",
      "2017-08-14    1\n",
      "2016-07-09    1\n",
      "Name: count, Length: 1100, dtype: int64\n"
     ]
    }
   ],
   "source": [
    "#17. Using arrays and loops find the number of patients who were Admitted in the month of November\n",
    "\n",
    "df1=df_HD\n",
    "AD_value_counts= df1['Admission_date'].value_counts()\n",
    "print(AD_value_counts)"
   ]
  },
  {
   "cell_type": "code",
   "execution_count": null,
   "id": "12074ba9",
   "metadata": {},
   "outputs": [],
   "source": []
  }
 ],
 "metadata": {
  "kernelspec": {
   "display_name": "Python 3 (ipykernel)",
   "language": "python",
   "name": "python3"
  },
  "language_info": {
   "codemirror_mode": {
    "name": "ipython",
    "version": 3
   },
   "file_extension": ".py",
   "mimetype": "text/x-python",
   "name": "python",
   "nbconvert_exporter": "python",
   "pygments_lexer": "ipython3",
   "version": "3.11.7"
  }
 },
 "nbformat": 4,
 "nbformat_minor": 5
}
