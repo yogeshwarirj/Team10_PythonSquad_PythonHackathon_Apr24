{
 "cells": [
  {
   "cell_type": "code",
   "execution_count": 34,
   "id": "5985788f-9ecb-45f1-8dec-e61961e1ee4f",
   "metadata": {},
   "outputs": [
    {
     "name": "stdout",
     "output_type": "stream",
     "text": [
      "Collecting ipython-sql\n",
      "  Downloading ipython_sql-0.5.0-py3-none-any.whl.metadata (17 kB)\n",
      "Collecting prettytable (from ipython-sql)\n",
      "  Downloading prettytable-3.10.0-py3-none-any.whl.metadata (30 kB)\n",
      "Requirement already satisfied: ipython in c:\\users\\revat\\anaconda3\\lib\\site-packages (from ipython-sql) (8.20.0)\n",
      "Requirement already satisfied: sqlalchemy>=2.0 in c:\\users\\revat\\anaconda3\\lib\\site-packages (from ipython-sql) (2.0.25)\n",
      "Collecting sqlparse (from ipython-sql)\n",
      "  Downloading sqlparse-0.5.0-py3-none-any.whl.metadata (3.9 kB)\n",
      "Requirement already satisfied: six in c:\\users\\revat\\anaconda3\\lib\\site-packages (from ipython-sql) (1.16.0)\n",
      "Requirement already satisfied: ipython-genutils in c:\\users\\revat\\anaconda3\\lib\\site-packages (from ipython-sql) (0.2.0)\n",
      "Requirement already satisfied: typing-extensions>=4.6.0 in c:\\users\\revat\\anaconda3\\lib\\site-packages (from sqlalchemy>=2.0->ipython-sql) (4.9.0)\n",
      "Requirement already satisfied: greenlet!=0.4.17 in c:\\users\\revat\\anaconda3\\lib\\site-packages (from sqlalchemy>=2.0->ipython-sql) (3.0.1)\n",
      "Requirement already satisfied: decorator in c:\\users\\revat\\anaconda3\\lib\\site-packages (from ipython->ipython-sql) (5.1.1)\n",
      "Requirement already satisfied: jedi>=0.16 in c:\\users\\revat\\anaconda3\\lib\\site-packages (from ipython->ipython-sql) (0.18.1)\n",
      "Requirement already satisfied: matplotlib-inline in c:\\users\\revat\\anaconda3\\lib\\site-packages (from ipython->ipython-sql) (0.1.6)\n",
      "Requirement already satisfied: prompt-toolkit<3.1.0,>=3.0.41 in c:\\users\\revat\\anaconda3\\lib\\site-packages (from ipython->ipython-sql) (3.0.43)\n",
      "Requirement already satisfied: pygments>=2.4.0 in c:\\users\\revat\\anaconda3\\lib\\site-packages (from ipython->ipython-sql) (2.15.1)\n",
      "Requirement already satisfied: stack-data in c:\\users\\revat\\anaconda3\\lib\\site-packages (from ipython->ipython-sql) (0.2.0)\n",
      "Requirement already satisfied: traitlets>=5 in c:\\users\\revat\\anaconda3\\lib\\site-packages (from ipython->ipython-sql) (5.7.1)\n",
      "Requirement already satisfied: colorama in c:\\users\\revat\\anaconda3\\lib\\site-packages (from ipython->ipython-sql) (0.4.6)\n",
      "Requirement already satisfied: wcwidth in c:\\users\\revat\\anaconda3\\lib\\site-packages (from prettytable->ipython-sql) (0.2.5)\n",
      "Requirement already satisfied: parso<0.9.0,>=0.8.0 in c:\\users\\revat\\anaconda3\\lib\\site-packages (from jedi>=0.16->ipython->ipython-sql) (0.8.3)\n",
      "Requirement already satisfied: executing in c:\\users\\revat\\anaconda3\\lib\\site-packages (from stack-data->ipython->ipython-sql) (0.8.3)\n",
      "Requirement already satisfied: asttokens in c:\\users\\revat\\anaconda3\\lib\\site-packages (from stack-data->ipython->ipython-sql) (2.0.5)\n",
      "Requirement already satisfied: pure-eval in c:\\users\\revat\\anaconda3\\lib\\site-packages (from stack-data->ipython->ipython-sql) (0.2.2)\n",
      "Downloading ipython_sql-0.5.0-py3-none-any.whl (20 kB)\n",
      "Downloading prettytable-3.10.0-py3-none-any.whl (28 kB)\n",
      "Downloading sqlparse-0.5.0-py3-none-any.whl (43 kB)\n",
      "   ---------------------------------------- 0.0/44.0 kB ? eta -:--:--\n",
      "   ---------------------------------------- 44.0/44.0 kB 2.1 MB/s eta 0:00:00\n",
      "Installing collected packages: sqlparse, prettytable, ipython-sql\n",
      "Successfully installed ipython-sql-0.5.0 prettytable-3.10.0 sqlparse-0.5.0\n"
     ]
    }
   ],
   "source": [
    "!pip install ipython-sql"
   ]
  },
  {
   "cell_type": "code",
   "execution_count": 35,
   "id": "8fab9325-e393-491a-b4b6-2d7879f0aa6c",
   "metadata": {},
   "outputs": [],
   "source": [
    "import pandas as pd\n",
    "import numpy as ny\n",
    "import sqlite3"
   ]
  },
  {
   "cell_type": "code",
   "execution_count": null,
   "id": "182bf662-1635-49b4-abcb-6457c0bf0825",
   "metadata": {
    "scrolled": true
   },
   "outputs": [],
   "source": [
    "df_HD = pd.read_excel(\"Cardiac_Outcomes.xlsx\", \"Hospitalization_Discharge\")\n",
    "df_CC = pd.read_excel(\"Cardiac_Outcomes.xlsx\", \"CardiacComplications\")\n",
    "df_Res = pd.read_excel(\"Cardiac_Outcomes.xlsx\", \"Responsivenes\")\n",
    "df_PH = pd.read_excel(\"Cardiac_Outcomes.xlsx\", \"PatientHistory\")\n",
    "df_Labs = pd.read_excel(\"Cardiac_Outcomes.xlsx\", \"Labs\")\n",
    "df_Demo = pd.read_excel(\"Cardiac_Outcomes.xlsx\", \"Demography\")\n",
    "df_Ppres = pd.read_excel(\"Cardiac_Outcomes.xlsx\", \"Patient_Precriptions\")"
   ]
  },
  {
   "cell_type": "code",
   "execution_count": null,
   "id": "63032992-f660-436c-9f78-0e99bc82055d",
   "metadata": {},
   "outputs": [],
   "source": [
    "#49.Connect to sql and write a query to find all patients who have a gender of 'Male' ( Attach screenshots for this question)\n",
    "Demography =  pd.read_excel(\"Cardiac_Outcomes.xlsx\",sheet_name=\"Demography\")\n",
    "cnn=sqlite3.connect('Team10_PythonSquad_Main80Questions.ipynb.db')\n",
    "# connecting to db"
   ]
  },
  {
   "cell_type": "code",
   "execution_count": 38,
   "id": "7c01e280-4c52-4a1e-9d77-07ec4fc7516b",
   "metadata": {},
   "outputs": [
    {
     "ename": "NameError",
     "evalue": "name 'Demography' is not defined",
     "output_type": "error",
     "traceback": [
      "\u001b[1;31m---------------------------------------------------------------------------\u001b[0m",
      "\u001b[1;31mNameError\u001b[0m                                 Traceback (most recent call last)",
      "Cell \u001b[1;32mIn[38], line 1\u001b[0m\n\u001b[1;32m----> 1\u001b[0m Demography\u001b[38;5;241m.\u001b[39mto_sql(\u001b[38;5;124m'\u001b[39m\u001b[38;5;124mDemography\u001b[39m\u001b[38;5;124m'\u001b[39m,cnn)\n",
      "\u001b[1;31mNameError\u001b[0m: name 'Demography' is not defined"
     ]
    }
   ],
   "source": [
    "Demography.to_sql('Demography',cnn)"
   ]
  },
  {
   "cell_type": "code",
   "execution_count": 11,
   "id": "ae82c5ab-67e0-4fc7-ae5e-518e6ef2c000",
   "metadata": {},
   "outputs": [
    {
     "name": "stdout",
     "output_type": "stream",
     "text": [
      "The sql extension is already loaded. To reload it, use:\n",
      "  %reload_ext sql\n"
     ]
    }
   ],
   "source": [
    "%load_ext sql"
   ]
  },
  {
   "cell_type": "code",
   "execution_count": 12,
   "id": "9313c295-9056-4305-8e5b-0813cfc1b603",
   "metadata": {},
   "outputs": [],
   "source": [
    "%sql sqlite:///Team10_PythonSquad_Main80Questions.ipynb.db"
   ]
  },
  {
   "cell_type": "code",
   "execution_count": 13,
   "id": "3af22810-8537-4fe0-9786-05508eb4233b",
   "metadata": {},
   "outputs": [
    {
     "name": "stdout",
     "output_type": "stream",
     "text": [
      " * sqlite:///Team10_PythonSquad_Main80Questions.ipynb.db\n",
      "Done.\n"
     ]
    },
    {
     "data": {
      "text/html": [
       "<table>\n",
       "    <thead>\n",
       "        <tr>\n",
       "            <th>inpatient_number</th>\n",
       "        </tr>\n",
       "    </thead>\n",
       "    <tbody>\n",
       "        <tr>\n",
       "            <td>857781</td>\n",
       "        </tr>\n",
       "        <tr>\n",
       "            <td>866418</td>\n",
       "        </tr>\n",
       "        <tr>\n",
       "            <td>775928</td>\n",
       "        </tr>\n",
       "        <tr>\n",
       "            <td>844094</td>\n",
       "        </tr>\n",
       "        <tr>\n",
       "            <td>802296</td>\n",
       "        </tr>\n",
       "        <tr>\n",
       "            <td>744167</td>\n",
       "        </tr>\n",
       "        <tr>\n",
       "            <td>759947</td>\n",
       "        </tr>\n",
       "        <tr>\n",
       "            <td>729522</td>\n",
       "        </tr>\n",
       "        <tr>\n",
       "            <td>814869</td>\n",
       "        </tr>\n",
       "        <tr>\n",
       "            <td>764380</td>\n",
       "        </tr>\n",
       "    </tbody>\n",
       "</table>"
      ],
      "text/plain": [
       "[(857781,),\n",
       " (866418,),\n",
       " (775928,),\n",
       " (844094,),\n",
       " (802296,),\n",
       " (744167,),\n",
       " (759947,),\n",
       " (729522,),\n",
       " (814869,),\n",
       " (764380,)]"
      ]
     },
     "execution_count": 13,
     "metadata": {},
     "output_type": "execute_result"
    }
   ],
   "source": [
    "%%sql\n",
    "SELECT inpatient_number\n",
    "FROM Demography\n",
    "WHERE\n",
    "gender=\"Male\"\n",
    "Limit 10"
   ]
  },
  {
   "cell_type": "code",
   "execution_count": 14,
   "id": "feca8d54-ede1-456d-9f18-31cb06c482a5",
   "metadata": {},
   "outputs": [
    {
     "data": {
      "text/html": [
       "<div>\n",
       "<style scoped>\n",
       "    .dataframe tbody tr th:only-of-type {\n",
       "        vertical-align: middle;\n",
       "    }\n",
       "\n",
       "    .dataframe tbody tr th {\n",
       "        vertical-align: top;\n",
       "    }\n",
       "\n",
       "    .dataframe thead th {\n",
       "        text-align: right;\n",
       "    }\n",
       "</style>\n",
       "<table border=\"1\" class=\"dataframe\">\n",
       "  <thead>\n",
       "    <tr style=\"text-align: right;\">\n",
       "      <th></th>\n",
       "      <th>inpatient_number</th>\n",
       "      <th>body_temperature</th>\n",
       "      <th>pulse</th>\n",
       "      <th>respiration</th>\n",
       "      <th>systolic_blood_pressure</th>\n",
       "      <th>diastolic_blood_pressure</th>\n",
       "      <th>map</th>\n",
       "      <th>fio2</th>\n",
       "      <th>creatinine_enzymatic_method</th>\n",
       "      <th>urea</th>\n",
       "      <th>...</th>\n",
       "      <th>measured_residual_base</th>\n",
       "      <th>measured_bicarbonate</th>\n",
       "      <th>carboxyhemoglobin</th>\n",
       "      <th>body_temperature_blood_gas</th>\n",
       "      <th>oxygen_saturation</th>\n",
       "      <th>partial_oxygen_pressure</th>\n",
       "      <th>oxyhemoglobin</th>\n",
       "      <th>anion_gap</th>\n",
       "      <th>free_calcium</th>\n",
       "      <th>total_hemoglobin</th>\n",
       "    </tr>\n",
       "  </thead>\n",
       "  <tbody>\n",
       "    <tr>\n",
       "      <th>457</th>\n",
       "      <td>756996</td>\n",
       "      <td>36.0</td>\n",
       "      <td>198</td>\n",
       "      <td>19</td>\n",
       "      <td>105</td>\n",
       "      <td>69</td>\n",
       "      <td>81.0</td>\n",
       "      <td>33</td>\n",
       "      <td>64.3</td>\n",
       "      <td>4.78</td>\n",
       "      <td>...</td>\n",
       "      <td>1.7</td>\n",
       "      <td>24.8</td>\n",
       "      <td>0.8</td>\n",
       "      <td>37.0</td>\n",
       "      <td>98.0</td>\n",
       "      <td>125.0</td>\n",
       "      <td>97.6</td>\n",
       "      <td>12.5</td>\n",
       "      <td>1.07</td>\n",
       "      <td>132.0</td>\n",
       "    </tr>\n",
       "  </tbody>\n",
       "</table>\n",
       "<p>1 rows × 107 columns</p>\n",
       "</div>"
      ],
      "text/plain": [
       "     inpatient_number  body_temperature  pulse  respiration  \\\n",
       "457            756996              36.0    198           19   \n",
       "\n",
       "     systolic_blood_pressure  diastolic_blood_pressure   map  fio2  \\\n",
       "457                      105                        69  81.0    33   \n",
       "\n",
       "     creatinine_enzymatic_method  urea  ...  measured_residual_base  \\\n",
       "457                         64.3  4.78  ...                     1.7   \n",
       "\n",
       "     measured_bicarbonate  carboxyhemoglobin  body_temperature_blood_gas  \\\n",
       "457                  24.8                0.8                        37.0   \n",
       "\n",
       "     oxygen_saturation  partial_oxygen_pressure  oxyhemoglobin  anion_gap  \\\n",
       "457               98.0                    125.0           97.6       12.5   \n",
       "\n",
       "     free_calcium  total_hemoglobin  \n",
       "457          1.07             132.0  \n",
       "\n",
       "[1 rows x 107 columns]"
      ]
     },
     "execution_count": 14,
     "metadata": {},
     "output_type": "execute_result"
    }
   ],
   "source": [
    "#50.Display the lab details of the patient with maximum pulse using the .loc\n",
    "df1 = pd.read_excel(\"Cardiac_Outcomes.xlsx\",sheet_name=\"Labs\")\n",
    "max_pulse = df1['pulse'].max(axis=0)\n",
    "max_pulse\n",
    "max_pulse_patient_lab_details = df1.loc[df1['pulse'] == max_pulse,:]\n",
    "max_pulse_patient_lab_details"
   ]
  },
  {
   "cell_type": "code",
   "execution_count": 15,
   "id": "da532499-08f7-4640-93d5-f54234644bad",
   "metadata": {},
   "outputs": [
    {
     "data": {
      "text/plain": [
       "<Axes: xlabel='ageCat', ylabel='pulse'>"
      ]
     },
     "execution_count": 15,
     "metadata": {},
     "output_type": "execute_result"
    },
    {
     "data": {
      "image/png": "[encoded data removed]",
      "text/plain": [
       "<Figure size 640x480 with 1 Axes>"
      ]
     },
     "metadata": {},
     "output_type": "display_data"
    }
   ],
   "source": [
    "#51.Display a violin chart to show distribution of Pulse Rate against age.\n",
    "%matplotlib inline\n",
    "import matplotlib.pyplot as plt\n",
    "import seaborn as sns\n",
    "sns.violinplot(x=Demography[\"ageCat\"],y=df1[\"pulse\"])"
   ]
  },
  {
   "cell_type": "code",
   "execution_count": 17,
   "id": "533ba605-79fe-40d8-a067-e349b1e7542d",
   "metadata": {},
   "outputs": [
    {
     "name": "stderr",
     "output_type": "stream",
     "text": [
      "C:\\Users\\email\\anaconda3\\Lib\\site-packages\\seaborn\\algorithms.py:98: RuntimeWarning: Mean of empty slice\n",
      "  boot_dist.append(f(*sample, **func_kwargs))\n"
     ]
    },
    {
     "data": {
      "text/plain": [
       "<Axes: xlabel='ageCat', ylabel='readmission_time_days_from_admission'>"
      ]
     },
     "execution_count": 17,
     "metadata": {},
     "output_type": "execute_result"
    },
    {
     "data": {
      "image/png": "[encoded data removed]",
      "text/plain": [
       "<Figure size 640x480 with 1 Axes>"
      ]
     },
     "metadata": {},
     "output_type": "display_data"
    }
   ],
   "source": [
    "#52.Create a Point Plot on Age against time to readmission.\n",
    "sns.pointplot(x=Demography[\"ageCat\"],y=df_HD[\"readmission_time_days_from_admission\"])"
   ]
  },
  {
   "cell_type": "code",
   "execution_count": 20,
   "id": "9e662d8c-d347-44ba-8cf8-e1c48189db48",
   "metadata": {},
   "outputs": [
    {
     "data": {
      "text/plain": [
       "0.09384336715987612"
      ]
     },
     "execution_count": 20,
     "metadata": {},
     "output_type": "execute_result"
    }
   ],
   "source": [
    "#53.What is the correlation between CCI score and outcome?\n",
    "\n",
    "df_HD['outcome_during_hospitalization']= pd.factorize(df_HD.outcome_during_hospitalization)[0]\n",
    "df_HD['outcome_during_hospitalization'].corr(df_PH['CCI_score'])"
   ]
  },
  {
   "cell_type": "code",
   "execution_count": 21,
   "id": "99ffe892-993f-4a4c-8b84-ac5f3c435e82",
   "metadata": {},
   "outputs": [
    {
     "name": "stdout",
     "output_type": "stream",
     "text": [
      "0\n",
      "4\n",
      "36\n",
      "64\n"
     ]
    }
   ],
   "source": [
    "#54.For all non-negative integers that are also even numbers in the array [0,1,2,6,8] print i*i\n",
    "listA=[0,1,2,6,8]\n",
    "for number in listA:\n",
    "  if((number % 2 == 0) & (number>=0)):\n",
    "      print(number*number)"
   ]
  },
  {
   "cell_type": "code",
   "execution_count": 4,
   "id": "b6f50302",
   "metadata": {},
   "outputs": [
    {
     "name": "stdout",
     "output_type": "stream",
     "text": [
      "{'Cardiology': 1703, 'GeneralWard': 241, 'Others': 52, 'ICU': 12}\n",
      "     discharge_department  visit_times\n",
      "0              Cardiology            1\n",
      "1              Cardiology            1\n",
      "2              Cardiology            2\n",
      "3              Cardiology            1\n",
      "4              Cardiology            1\n",
      "...                   ...          ...\n",
      "2003          GeneralWard            1\n",
      "2004          GeneralWard            1\n",
      "2005           Cardiology            1\n",
      "2006           Cardiology            1\n",
      "2007           Cardiology            1\n",
      "\n",
      "[2008 rows x 2 columns]\n",
      "  discharge_department  visit_times\n",
      "0           Cardiology         1872\n",
      "1          GeneralWard          254\n",
      "2                  ICU           13\n",
      "3               Others           55\n",
      "The admission ward with the maximum number of scheduled visits is 'Cardiology' with 1872 visits.\n"
     ]
    }
   ],
   "source": [
    "#Q65.Which Admission Ward has maximum number of visits scheduled?\n",
    "df1 = df_HD\n",
    "\n",
    "# counts of discharge_department\n",
    "DD_value_counts = df1['discharge_department'].value_counts()\n",
    "data = dict(DD_value_counts)\n",
    "print(data)\n",
    "\n",
    "# Extract discharge_department and visit_times columns\n",
    "discharge_department = df1['discharge_department']\n",
    "visit_times = df1['visit_times']\n",
    "\n",
    "# Create a DataFrame with both columns\n",
    "df2 = pd.DataFrame({'discharge_department': discharge_department, 'visit_times': visit_times})\n",
    "print(df2)\n",
    "#Getting unique discharge department with total visit time\n",
    "ward_visits = df2.groupby('discharge_department')['visit_times'].sum().reset_index()\n",
    "print(ward_visits)\n",
    "#maximum visit per department\n",
    "max_visits_ward = ward_visits.loc[ward_visits['visit_times'].idxmax()]\n",
    "\n",
    "print(f\"The admission ward with the maximum number of scheduled visits is '{max_visits_ward['discharge_department']}' \"\n",
    "      f\"with {max_visits_ward['visit_times']} visits.\")"
   ]
  },
  {
   "cell_type": "code",
   "execution_count": 5,
   "id": "dfcc6a82",
   "metadata": {},
   "outputs": [
    {
     "name": "stdout",
     "output_type": "stream",
     "text": [
      "  discharge_department  gender  count\n",
      "0           Cardiology  Female    993\n",
      "1           Cardiology    Male    710\n",
      "2          GeneralWard  Female    137\n",
      "3          GeneralWard    Male    104\n",
      "4                  ICU  Female      5\n",
      "5                  ICU    Male      7\n",
      "6               Others  Female     28\n",
      "7               Others    Male     24\n",
      "gender                Female  Male\n",
      "discharge_department              \n",
      "Cardiology               993   710\n",
      "GeneralWard              137   104\n",
      "ICU                        5     7\n",
      "Others                    28    24\n"
     ]
    }
   ],
   "source": [
    "#Q66.Display total count of patients in each discharge_department based on gender.\n",
    "df_HD\n",
    "df_Demo\n",
    "# Merge Hospitalization_Discharge and Demography on inpatient_number \n",
    "df_merged = pd.merge(df_HD, df_Demo, on='inpatient_number')\n",
    "#print(df_merged)\n",
    "#No of patients discharge department wise\n",
    "patients_count = df_merged.groupby(['discharge_department', 'gender']).size().reset_index(name='count')\n",
    "print(patients_count)\n",
    "#display total count of patients in each discharge_department based on gender.\n",
    "pivot_table = patients_count.pivot_table(index='discharge_department', columns='gender', values='count', fill_value=0)\n",
    "print(pivot_table)"
   ]
  },
  {
   "cell_type": "code",
   "execution_count": 7,
   "id": "d6681ff7",
   "metadata": {},
   "outputs": [
    {
     "name": "stdout",
     "output_type": "stream",
     "text": [
      "                                           Drug_name  count\n",
      "0                      Aspirin enteric-coated tablet    958\n",
      "1                        Atorvastatin calcium tablet    822\n",
      "2                    Benazepril hydrochloride tablet    434\n",
      "3               Clopidogrel Hydrogen Sulphate tablet    401\n",
      "4                              Deslanoside injection   1017\n",
      "5                                     Digoxin tablet    999\n",
      "6                 Dobutamine hydrochloride injection     22\n",
      "7                        Enoxaparin Sodium injection    113\n",
      "8                               Furosemide injection   1720\n",
      "9                                  Furosemide tablet   1641\n",
      "10                          Heparin Sodium injection    153\n",
      "11                        Hydrochlorothiazide tablet    283\n",
      "12              Isoprenaline Hydrochloride injection     30\n",
      "13   Isosorbide Mononitrate Sustained Release tablet    326\n",
      "14  Meglumine Adenosine Cyclophosphate for injection   1115\n",
      "15     Metoprolol Succinate Sustained-release tablet    523\n",
      "16                               Milrinone injection    709\n",
      "17                           Nitroglycerin injection    203\n",
      "18                                  Shenfu injection    338\n",
      "19                             Spironolactone tablet   1833\n",
      "20                                 Torasemide tablet    252\n",
      "21                      Valsartan Dispersible tablet    348\n",
      "22                     metoprolol tartrate injection    307\n",
      "23                  sulfotanshinone sodium injection    570\n",
      "24                            warfarin sodium tablet    253\n",
      "                                           Drug_name  count\n",
      "0                      Aspirin enteric-coated tablet    958\n",
      "1                        Atorvastatin calcium tablet    822\n",
      "2                    Benazepril hydrochloride tablet    434\n",
      "3               Clopidogrel Hydrogen Sulphate tablet    401\n",
      "4                              Deslanoside injection   1017\n",
      "5                                     Digoxin tablet    999\n",
      "6                 Dobutamine hydrochloride injection     22\n",
      "7                        Enoxaparin Sodium injection    113\n",
      "8                               Furosemide injection   1720\n",
      "9                                  Furosemide tablet   1641\n",
      "10                          Heparin Sodium injection    153\n",
      "11                        Hydrochlorothiazide tablet    283\n",
      "12              Isoprenaline Hydrochloride injection     30\n",
      "13   Isosorbide Mononitrate Sustained Release tablet    326\n",
      "14  Meglumine Adenosine Cyclophosphate for injection   1115\n",
      "15     Metoprolol Succinate Sustained-release tablet    523\n",
      "16                               Milrinone injection    709\n",
      "17                           Nitroglycerin injection    203\n",
      "18                                  Shenfu injection    338\n",
      "19                             Spironolactone tablet   1833\n",
      "20                                 Torasemide tablet    252\n",
      "21                      Valsartan Dispersible tablet    348\n",
      "22                     metoprolol tartrate injection    307\n",
      "23                  sulfotanshinone sodium injection    570\n",
      "24                            warfarin sodium tablet    253\n"
     ]
    }
   ],
   "source": [
    "#Q67.How many Unique patients were precribed each type of medication?\n",
    "df_Ppres\n",
    "\n",
    "#Methord 1\n",
    "Unique_patients1=df_Ppres.groupby([\"Drug_name\"]).size().reset_index(name='count')\n",
    "print(Unique_patients1)\n",
    "\n",
    "#Methord 2\n",
    "unique_patients = df_Ppres.groupby('Drug_name')['inpatient_number'].nunique().reset_index(name='count')\n",
    "print(unique_patients)"
   ]
  },
  {
   "cell_type": "code",
   "execution_count": 8,
   "id": "04c6c3d0",
   "metadata": {},
   "outputs": [
    {
     "name": "stdout",
     "output_type": "stream",
     "text": [
      "      inpatient_number  dischargeDay\n",
      "0               857781            11\n",
      "1               743087             8\n",
      "2               866418             5\n",
      "3               775928            11\n",
      "4               810128             5\n",
      "...                ...           ...\n",
      "2003            740689             5\n",
      "2004            734280             8\n",
      "2005            781004            14\n",
      "2006            744870             1\n",
      "2007            791864             6\n",
      "\n",
      "[2008 rows x 2 columns]\n",
      "      inpatient_number  dischargeDay\n",
      "7               787530            27\n",
      "13              744167            22\n",
      "63              859541            30\n",
      "68              779834            21\n",
      "89              773090            26\n",
      "...                ...           ...\n",
      "1945            842942            32\n",
      "1976            777237            21\n",
      "1987            759370            28\n",
      "1997            750447            29\n",
      "1999            804209            29\n",
      "\n",
      "[102 rows x 2 columns]\n",
      "    inpatient_number  dischargeDay\n",
      "7             787530            27\n",
      "13            744167            22\n",
      "63            859541            30\n",
      "68            779834            21\n",
      "89            773090            26\n"
     ]
    }
   ],
   "source": [
    "#Q68.Find 5 patients with the highest Discharge days greater than 20. List their most common outcome(notcompleted).\n",
    "df=df_HD\n",
    "\n",
    "#Displaing discharge day by inpatient no\n",
    "dischargeDay=df['dischargeDay']\n",
    "Inpatient_no=df['inpatient_number']\n",
    "df2 = pd.DataFrame({'inpatient_number': Inpatient_no, 'dischargeDay': dischargeDay})\n",
    "print(df2)\n",
    "\n",
    "# Filtering only, base on discharge day>20\n",
    "filtered_df = df_HD[df_HD['dischargeDay'] > 20]\n",
    "df3=filtered_df[['inpatient_number','dischargeDay']]\n",
    "print(df3)\n",
    "\n",
    "# Top 5 patients\n",
    "print(df3.head(5))"
   ]
  },
  {
   "cell_type": "code",
   "execution_count": null,
   "id": "8fbd00fd-a3cd-425a-b1ef-d1a001536f8e",
   "metadata": {},
   "outputs": [],
   "source": []
  },
  {
   "cell_type": "code",
   "execution_count": 7,
   "id": "299b560c",
   "metadata": {},
   "outputs": [
    {
     "name": "stdout",
     "output_type": "stream",
     "text": [
      "Admission_date\n",
      "2018-06-20    6\n",
      "2018-04-30    6\n",
      "2017-03-29    6\n",
      "2017-04-21    6\n",
      "2017-10-31    5\n",
      "             ..\n",
      "2016-01-27    1\n",
      "2016-10-05    1\n",
      "2017-07-25    1\n",
      "2017-08-14    1\n",
      "2016-07-09    1\n",
      "Name: count, Length: 1100, dtype: int64\n"
     ]
    }
   ],
   "source": [
    "#17. Using arrays and loops find the number of patients who were Admitted in the month of November\n",
    "\n",
    "df1=df_HD\n",
    "AD_value_counts= df1['Admission_date'].value_counts()\n",
    "print(AD_value_counts)"
   ]
  },
  {
   "cell_type": "code",
   "execution_count": null,
   "id": "12074ba9",
   "metadata": {
    "scrolled": true
   },
   "outputs": [],
   "source": [
    "#1.How many patients were registered in each unique occupation?\n",
    "import pandas as pd \n",
    "Demo=pd.read_excel(\"Cardiac_Outcomes.xlsx\",\"Demography\") \n",
    "occupation_occurence=Demo[\"occupation\"].value_counts() \n",
    "occupation_occurence.sort_values(axis = 0, ascending = False)\n"
   ]
  },
  {
   "cell_type": "code",
   "execution_count": 41,
   "id": "73461801-27a2-4a24-8380-2f3da4af689c",
   "metadata": {
    "scrolled": true
   },
   "outputs": [
    {
     "data": {
      "text/html": [
       "<div>\n",
       "<style scoped>\n",
       "    .dataframe tbody tr th:only-of-type {\n",
       "        vertical-align: middle;\n",
       "    }\n",
       "\n",
       "    .dataframe tbody tr th {\n",
       "        vertical-align: top;\n",
       "    }\n",
       "\n",
       "    .dataframe thead th {\n",
       "        text-align: right;\n",
       "    }\n",
       "</style>\n",
       "<table border=\"1\" class=\"dataframe\">\n",
       "  <thead>\n",
       "    <tr style=\"text-align: right;\">\n",
       "      <th></th>\n",
       "      <th>inpatient_number</th>\n",
       "      <th>body_temperature</th>\n",
       "      <th>pulse</th>\n",
       "      <th>respiration</th>\n",
       "      <th>systolic_blood_pressure</th>\n",
       "      <th>diastolic_blood_pressure</th>\n",
       "      <th>map</th>\n",
       "      <th>fio2</th>\n",
       "      <th>creatinine_enzymatic_method</th>\n",
       "      <th>urea</th>\n",
       "      <th>...</th>\n",
       "      <th>measured_residual_base</th>\n",
       "      <th>measured_bicarbonate</th>\n",
       "      <th>carboxyhemoglobin</th>\n",
       "      <th>body_temperature_blood_gas</th>\n",
       "      <th>oxygen_saturation</th>\n",
       "      <th>partial_oxygen_pressure</th>\n",
       "      <th>oxyhemoglobin</th>\n",
       "      <th>anion_gap</th>\n",
       "      <th>free_calcium</th>\n",
       "      <th>total_hemoglobin</th>\n",
       "    </tr>\n",
       "  </thead>\n",
       "  <tbody>\n",
       "    <tr>\n",
       "      <th>865</th>\n",
       "      <td>746068</td>\n",
       "      <td>37.1</td>\n",
       "      <td>71</td>\n",
       "      <td>20</td>\n",
       "      <td>130</td>\n",
       "      <td>88</td>\n",
       "      <td>102.0</td>\n",
       "      <td>21</td>\n",
       "      <td>88.8</td>\n",
       "      <td>7.26</td>\n",
       "      <td>...</td>\n",
       "      <td>-2.6</td>\n",
       "      <td>21.6</td>\n",
       "      <td>0.3</td>\n",
       "      <td>37.0</td>\n",
       "      <td>97.0</td>\n",
       "      <td>95.0</td>\n",
       "      <td>96.3</td>\n",
       "      <td>16.8</td>\n",
       "      <td>1.11</td>\n",
       "      <td>94.0</td>\n",
       "    </tr>\n",
       "  </tbody>\n",
       "</table>\n",
       "<p>1 rows × 107 columns</p>\n",
       "</div>"
      ],
      "text/plain": [
       "     inpatient_number  body_temperature  pulse  respiration  \\\n",
       "865            746068              37.1     71           20   \n",
       "\n",
       "     systolic_blood_pressure  diastolic_blood_pressure    map  fio2  \\\n",
       "865                      130                        88  102.0    21   \n",
       "\n",
       "     creatinine_enzymatic_method  urea  ...  measured_residual_base  \\\n",
       "865                         88.8  7.26  ...                    -2.6   \n",
       "\n",
       "     measured_bicarbonate  carboxyhemoglobin  body_temperature_blood_gas  \\\n",
       "865                  21.6                0.3                        37.0   \n",
       "\n",
       "     oxygen_saturation  partial_oxygen_pressure  oxyhemoglobin  anion_gap  \\\n",
       "865               97.0                     95.0           96.3       16.8   \n",
       "\n",
       "     free_calcium  total_hemoglobin  \n",
       "865          1.11              94.0  \n",
       "\n",
       "[1 rows x 107 columns]"
      ]
     },
     "execution_count": 41,
     "metadata": {},
     "output_type": "execute_result"
    }
   ],
   "source": [
    "#Q33. Retrieve the row with minimum white_blood_cell count using sorting technique\n",
    "      #Expl: sorting the column white_blood_cell with sort_value() and found out min value with head()\n",
    "df_Labs.sort_values(by=\"white_blood_cell\").head(1)"
   ]
  },
  {
   "cell_type": "code",
   "execution_count": null,
   "id": "130b5226-d210-4a3e-adf0-4a2c3e26d00e",
   "metadata": {},
   "outputs": [],
   "source": []
  }
 ],
 "metadata": {
  "kernelspec": {
   "display_name": "Python 3 (ipykernel)",
   "language": "python",
   "name": "python3"
  },
  "language_info": {
   "codemirror_mode": {
    "name": "ipython",
    "version": 3
   },
   "file_extension": ".py",
   "mimetype": "text/x-python",
   "name": "python",
   "nbconvert_exporter": "python",
   "pygments_lexer": "ipython3",
   "version": "3.11.7"
  }
 },
 "nbformat": 4,
 "nbformat_minor": 5
}
